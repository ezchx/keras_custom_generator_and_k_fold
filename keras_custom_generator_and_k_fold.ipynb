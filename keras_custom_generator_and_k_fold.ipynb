{
 "cells": [
  {
   "cell_type": "code",
   "execution_count": 1,
   "metadata": {},
   "outputs": [
    {
     "name": "stderr",
     "output_type": "stream",
     "text": [
      "Using TensorFlow backend.\n"
     ]
    }
   ],
   "source": [
    "import os\n",
    "import math\n",
    "import numpy as np\n",
    "from PIL import Image\n",
    "from u_net import get_unet_128\n",
    "from sklearn.model_selection import KFold\n",
    "from sklearn.model_selection import train_test_split"
   ]
  },
  {
   "cell_type": "code",
   "execution_count": 2,
   "metadata": {},
   "outputs": [],
   "source": [
    "batch_size = 3\n",
    "input_shape = (320,240,3)\n",
    "x_dir = \"../simple_model/data/train/images/\"\n",
    "y_dir = \"../simple_model/data/train/masks/\""
   ]
  },
  {
   "cell_type": "code",
   "execution_count": 3,
   "metadata": {},
   "outputs": [],
   "source": [
    "x_files = os.listdir(x_dir)\n",
    "y_files = os.listdir(y_dir)\n",
    "all_files = list(zip(x_files, y_files))"
   ]
  },
  {
   "cell_type": "code",
   "execution_count": 51,
   "metadata": {},
   "outputs": [],
   "source": [
    "def grab_batch(file_list):\n",
    "\n",
    "    while True:\n",
    "        x, y = [], []\n",
    "\n",
    "        for i in range(len(file_list)):\n",
    "            x.append(np.array(Image.open(x_dir + file_list[i][0])))\n",
    "            y.append(np.array(Image.open(y_dir + file_list[i][1]).convert('L')))\n",
    "\n",
    "            if ((len(x) == batch_size) or (i == len(file_list) - 1)):\n",
    "                x = np.array(x)\n",
    "                y = np.array(y)\n",
    "                yield(x, y)\n",
    "                x, y = [], []"
   ]
  },
  {
   "cell_type": "code",
   "execution_count": 93,
   "metadata": {},
   "outputs": [
    {
     "name": "stdout",
     "output_type": "stream",
     "text": [
      "Epoch 1/2\n",
      "5/5 [==============================] - 2s 363ms/step - loss: -406.6928 - dice_loss: 1.9111 - val_loss: -568.6899 - val_dice_loss: 1.9231\n",
      "Epoch 2/2\n",
      "5/5 [==============================] - 0s 77ms/step - loss: -430.7607 - dice_loss: 1.9527 - val_loss: -547.0114 - val_dice_loss: 1.9011\n"
     ]
    },
    {
     "data": {
      "text/plain": [
       "<keras.callbacks.History at 0x7f735118e9b0>"
      ]
     },
     "execution_count": 93,
     "metadata": {},
     "output_type": "execute_result"
    }
   ],
   "source": [
    "train_files, test_files = train_test_split(all_files, test_size = 0.2)\n",
    "\n",
    "model = get_unet_128(input_shape)\n",
    "\n",
    "model.fit_generator(grab_batch(train_files),\n",
    "                    steps_per_epoch = math.ceil(len(train_files) / batch_size),\n",
    "                    validation_data = grab_batch(test_files),\n",
    "                    validation_steps = math.ceil(len(test_files) / batch_size),\n",
    "                    epochs = 2)"
   ]
  },
  {
   "cell_type": "code",
   "execution_count": 106,
   "metadata": {},
   "outputs": [
    {
     "name": "stdout",
     "output_type": "stream",
     "text": [
      "Epoch 1/2\n",
      "5/5 [==============================] - 7s 1s/step - loss: -103.3340 - dice_loss: 1.3580 - val_loss: -854.9723 - val_dice_loss: 1.9652\n",
      "Epoch 2/2\n",
      "5/5 [==============================] - 0s 78ms/step - loss: -252.6804 - dice_loss: 1.8182 - val_loss: -11.3173 - val_dice_loss: 1.0092\n",
      "Epoch 1/2\n",
      "5/5 [==============================] - 7s 1s/step - loss: -144.7828 - dice_loss: 1.5487 - val_loss: -703.2266 - val_dice_loss: 1.9660\n",
      "Epoch 2/2\n",
      "5/5 [==============================] - 0s 78ms/step - loss: -293.3208 - dice_loss: 1.8563 - val_loss: -710.2056 - val_dice_loss: 1.9786\n",
      "Epoch 1/2\n",
      "5/5 [==============================] - 8s 2s/step - loss: -158.6882 - dice_loss: 1.6069 - val_loss: -699.9170 - val_dice_loss: 1.9680\n",
      "Epoch 2/2\n",
      "5/5 [==============================] - 0s 79ms/step - loss: -309.0218 - dice_loss: 1.8844 - val_loss: -695.7798 - val_dice_loss: 1.9753\n",
      "Epoch 1/2\n",
      "5/5 [==============================] - 8s 2s/step - loss: -183.7210 - dice_loss: 1.5911 - val_loss: -596.2846 - val_dice_loss: 1.9683\n",
      "Epoch 2/2\n",
      "5/5 [==============================] - 0s 79ms/step - loss: -353.0036 - dice_loss: 1.8823 - val_loss: -598.6379 - val_dice_loss: 1.9810\n",
      "Epoch 1/2\n",
      "5/5 [==============================] - 8s 2s/step - loss: -165.6406 - dice_loss: 1.5245 - val_loss: -605.2275 - val_dice_loss: 1.9669\n",
      "Epoch 2/2\n",
      "5/5 [==============================] - 0s 80ms/step - loss: -341.3891 - dice_loss: 1.8662 - val_loss: -603.7582 - val_dice_loss: 1.9722\n"
     ]
    }
   ],
   "source": [
    "kf = KFold(n_splits = 5)\n",
    "all_files = np.array(all_files)\n",
    "\n",
    "for train_index, test_index in kf.split(all_files):\n",
    "\n",
    "    train_files, test_files = all_files[train_index], all_files[test_index]\n",
    "\n",
    "    model = get_unet_128(input_shape)\n",
    "    \n",
    "    model.fit_generator(grab_batch(train_files),\n",
    "                        steps_per_epoch = math.ceil(len(train_files) / batch_size),\n",
    "                        validation_data = grab_batch(test_files),\n",
    "                        validation_steps = math.ceil(len(test_files) / batch_size),\n",
    "                        epochs = 2)"
   ]
  },
  {
   "cell_type": "code",
   "execution_count": null,
   "metadata": {},
   "outputs": [],
   "source": []
  },
  {
   "cell_type": "code",
   "execution_count": null,
   "metadata": {},
   "outputs": [],
   "source": []
  },
  {
   "cell_type": "code",
   "execution_count": null,
   "metadata": {},
   "outputs": [],
   "source": []
  },
  {
   "cell_type": "code",
   "execution_count": null,
   "metadata": {},
   "outputs": [],
   "source": []
  },
  {
   "cell_type": "code",
   "execution_count": null,
   "metadata": {},
   "outputs": [],
   "source": []
  }
 ],
 "metadata": {
  "kernelspec": {
   "display_name": "Python 3",
   "language": "python",
   "name": "python3"
  },
  "language_info": {
   "codemirror_mode": {
    "name": "ipython",
    "version": 3
   },
   "file_extension": ".py",
   "mimetype": "text/x-python",
   "name": "python",
   "nbconvert_exporter": "python",
   "pygments_lexer": "ipython3",
   "version": "3.6.2"
  }
 },
 "nbformat": 4,
 "nbformat_minor": 2
}
